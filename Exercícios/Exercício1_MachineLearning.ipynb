{
  "nbformat": 4,
  "nbformat_minor": 0,
  "metadata": {
    "colab": {
      "provenance": [],
      "authorship_tag": "ABX9TyOfirJY8db4yuKdPydoNgrB",
      "include_colab_link": true
    },
    "kernelspec": {
      "name": "python3",
      "display_name": "Python 3"
    },
    "language_info": {
      "name": "python"
    }
  },
  "cells": [
    {
      "cell_type": "markdown",
      "metadata": {
        "id": "view-in-github",
        "colab_type": "text"
      },
      "source": [
        "<a href=\"https://colab.research.google.com/github/ersjunior/3DTS-MachineLearning/blob/main/Exerc%C3%ADcios/Exerc%C3%ADcio1_MachineLearning.ipynb\" target=\"_parent\"><img src=\"https://colab.research.google.com/assets/colab-badge.svg\" alt=\"Open In Colab\"/></a>"
      ]
    },
    {
      "cell_type": "markdown",
      "source": [
        "# Machine Learning\n",
        "* Primeiro Exercício em Aula"
      ],
      "metadata": {
        "id": "EA4mLLeocVDK"
      }
    },
    {
      "cell_type": "code",
      "source": [
        "import pandas as pd\n",
        "import numpy as np\n",
        "import matplotlib as plt"
      ],
      "metadata": {
        "id": "BgFwI1kKc2x-"
      },
      "execution_count": 80,
      "outputs": []
    },
    {
      "cell_type": "markdown",
      "source": [
        "### Primeiro Exercício\n",
        "* Nesta disciplina iremos discutir métodos e algoritmos que permitem que sistemas computacionais\n",
        "“aprendam” a resolver um determinado problema com base em experiências passadas. Assim,\n",
        "pode-se notar que os algoritmos construídos na área de aprendizado de máquina não são projetados\n",
        "para resolver um problema que pode ser resolvido de maneira exata (através de algoritmos\n",
        "específicos). Ao invés disso, os algoritmos de aprendizado de máquina são desenvolvidos para\n",
        "identificar padrões presentes em experiências passadas (onde o problema em questão foi resolvido\n",
        "com sucesso) e, a utilizar estes padrões para solucionar novas instâncias do mesmo problema.\n",
        "\n",
        "* Veremos que as experiências passadas podem ser representadas de várias maneiras, sendo que\n",
        "quando são representadas com base em bancos de dados (uma das representações mais comuns)\n",
        "os métodos e algoritmos são chamados de métodos e algoritmos de “mineração de dados”. Assim,\n",
        "pode-se dizer que a mineração de dados é uma forma de aplicação do aprendizado de máquina, na\n",
        "qual, as experiências passadas estão representadas em forma de bancos de dados.\n",
        "\n",
        "* Nesta primeira aula, serão realizados exercícios que permitam-nos fazer uma analogia sobre a\n",
        "forma como os seres humanos “aprendem” a resolver problemas (com base em experiências\n",
        "passadas) e a forma como as máquinas realizam tal aprendizado. Assim, considere que após uma\n",
        "aula de “computação avançada” um colega lhe pergunta se você pode ajuda-lo a escolher qual\n",
        "lente de contato é a mais indicada para ele começar a usar. A sua primeira resposta deve ser:\n",
        "procure um médico, pois não se pode prescrever lentes de contato sem a devida autoridade e\n",
        "conhecimento oftalmológico. Suponha, entretanto, que após seu colega ter sido examinado por um\n",
        "médico especialista, vocês dois tentem (só por brincadeira) identificar (de maneira simplista e\n",
        "superficial) como seria possível identificar qual lente de contato seria adequada para casos\n",
        "aleatórios de pacientes em um consultório oftalmológico. Neste sentido, dando sequência à ideia\n",
        "de prescrição de lentes de contato, vocês encontram na internet um banco de dados contendo os\n",
        "dados de prontuários de 23 pacientes. Os dados são simplificados e para cada um dos 23 pacientes\n",
        "há informações sobre a identificação do paciente (ID), a idade (categorizada em termos\n",
        "oftalmológicos: jovem, pré-presbiópico e prebiópico), o diagnóstico oficial (míope ou\n",
        "hipermetrope), a presença de astigmatismo (sim ou não), a produção lacrimal do paciente (normal\n",
        "ou reduzida), e por fim, qual foi a lente prescrita (nenhuma, gelatinosa ou rígida)."
      ],
      "metadata": {
        "id": "-mNFAJEhrAQk"
      }
    },
    {
      "cell_type": "code",
      "execution_count": 81,
      "metadata": {
        "id": "KbpFltzZY5M9"
      },
      "outputs": [],
      "source": [
        "dados = [\n",
        "    [1, \"jovem\", \"míope\", \"não\", \"reduzida\", \"nenhuma\"],\n",
        "    [2, \"jovem\", \"míope\", \"não\", \"normal\", \"gelatinosa\"],\n",
        "    [3, \"jovem\", \"míope\", \"sim\", \"reduzida\", \"nenhuma\"],\n",
        "    [4, \"jovem\", \"míope\", \"sim\", \"normal\", \"rígida\"],\n",
        "    [5, \"jovem\", \"hipermetrope\", \"não\", \"reduzida\", \"gelatinosa\"],\n",
        "    [6, \"jovem\", \"hipermetrope\", \"não\", \"normal\", \"gelatinosa\"],\n",
        "    [7, \"jovem\", \"hipermetrope\", \"sim\", \"reduzida\", \"rígida\"],\n",
        "    [8, \"jovem\", \"hipermetrope\", \"sim\", \"normal\", \"rígida\"],\n",
        "    [9, \"pre-presbiópico\", \"míope\", \"não\", \"reduzida\", \"nenhuma\"],\n",
        "    [10, \"pre-presbiópico\", \"míope\", \"não\", \"normal\", \"gelatinosa\"],\n",
        "    [11, \"pre-presbiópico\", \"míope\", \"sim\", \"reduzida\", \"nenhuma\"],\n",
        "    [12, \"pre-presbiópico\", \"míope\", \"sim\", \"normal\", \"rígida\"],\n",
        "    [13, \"pre-presbiópico\", \"hipermetrope\", \"não\", \"reduzida\", \"nenhuma\"],\n",
        "    [14, \"pre-presbiópico\", \"hipermetrope\", \"não\", \"normal\", \"gelatinosa\"],\n",
        "    [15, \"pre-presbiópico\", \"hipermetrope\", \"sim\", \"reduzida\", \"rígida\"],\n",
        "    [16, \"pre-presbiópico\", \"hipermetrope\", \"sim\", \"normal\", \"nenhuma\"],\n",
        "    [17, \"presbiópico\", \"míope\", \"não\", \"reduzida\", \"nenhuma\"],\n",
        "    [18, \"presbiópico\", \"míope\", \"não\", \"normal\", \"nenhuma\"],\n",
        "    [19, \"presbiópico\", \"míope\", \"sim\", \"reduzida\", \"nenhuma\"],\n",
        "    [20, \"presbiópico\", \"míope\", \"sim\", \"normal\", \"rígida\"],\n",
        "    [21, \"presbiópico\", \"hipermetrope\", \"não\", \"reduzida\", \"nenhuma\"],\n",
        "    [22, \"presbiópico\", \"hipermetrope\", \"não\", \"normal\", \"gelatinosa\"],\n",
        "    [23, \"presbiópico\", \"hipermetrope\", \"sim\", \"reduzida\", \"nenhuma\"],\n",
        "]"
      ]
    },
    {
      "cell_type": "code",
      "source": [
        "columns = {\n",
        "    0: 'Id',\n",
        "    1: 'idade (oftalmologica)',\n",
        "    2: 'diagnostico_oficial',\n",
        "    3: 'astigmatismo',\n",
        "    4: 'producao_lacrimal',\n",
        "    5: 'tipo_lente'\n",
        "  }\n",
        "df = pd.DataFrame(dados)\n",
        "df.rename(columns=columns, inplace=True)\n",
        "\n",
        "df.head()"
      ],
      "metadata": {
        "colab": {
          "base_uri": "https://localhost:8080/",
          "height": 206
        },
        "id": "XBNCq08leaIt",
        "outputId": "8045ae28-7b90-4a1e-f583-d9976005e8c3"
      },
      "execution_count": 82,
      "outputs": [
        {
          "output_type": "execute_result",
          "data": {
            "text/plain": [
              "   Id idade (oftalmologica) diagnostico_oficial astigmatismo  \\\n",
              "0   1                 jovem               míope          não   \n",
              "1   2                 jovem               míope          não   \n",
              "2   3                 jovem               míope          sim   \n",
              "3   4                 jovem               míope          sim   \n",
              "4   5                 jovem        hipermetrope          não   \n",
              "\n",
              "  producao_lacrimal  tipo_lente  \n",
              "0          reduzida     nenhuma  \n",
              "1            normal  gelatinosa  \n",
              "2          reduzida     nenhuma  \n",
              "3            normal      rígida  \n",
              "4          reduzida  gelatinosa  "
            ],
            "text/html": [
              "\n",
              "\n",
              "  <div id=\"df-b4c35f7f-1667-47ce-b9e1-43a3cf308c82\">\n",
              "    <div class=\"colab-df-container\">\n",
              "      <div>\n",
              "<style scoped>\n",
              "    .dataframe tbody tr th:only-of-type {\n",
              "        vertical-align: middle;\n",
              "    }\n",
              "\n",
              "    .dataframe tbody tr th {\n",
              "        vertical-align: top;\n",
              "    }\n",
              "\n",
              "    .dataframe thead th {\n",
              "        text-align: right;\n",
              "    }\n",
              "</style>\n",
              "<table border=\"1\" class=\"dataframe\">\n",
              "  <thead>\n",
              "    <tr style=\"text-align: right;\">\n",
              "      <th></th>\n",
              "      <th>Id</th>\n",
              "      <th>idade (oftalmologica)</th>\n",
              "      <th>diagnostico_oficial</th>\n",
              "      <th>astigmatismo</th>\n",
              "      <th>producao_lacrimal</th>\n",
              "      <th>tipo_lente</th>\n",
              "    </tr>\n",
              "  </thead>\n",
              "  <tbody>\n",
              "    <tr>\n",
              "      <th>0</th>\n",
              "      <td>1</td>\n",
              "      <td>jovem</td>\n",
              "      <td>míope</td>\n",
              "      <td>não</td>\n",
              "      <td>reduzida</td>\n",
              "      <td>nenhuma</td>\n",
              "    </tr>\n",
              "    <tr>\n",
              "      <th>1</th>\n",
              "      <td>2</td>\n",
              "      <td>jovem</td>\n",
              "      <td>míope</td>\n",
              "      <td>não</td>\n",
              "      <td>normal</td>\n",
              "      <td>gelatinosa</td>\n",
              "    </tr>\n",
              "    <tr>\n",
              "      <th>2</th>\n",
              "      <td>3</td>\n",
              "      <td>jovem</td>\n",
              "      <td>míope</td>\n",
              "      <td>sim</td>\n",
              "      <td>reduzida</td>\n",
              "      <td>nenhuma</td>\n",
              "    </tr>\n",
              "    <tr>\n",
              "      <th>3</th>\n",
              "      <td>4</td>\n",
              "      <td>jovem</td>\n",
              "      <td>míope</td>\n",
              "      <td>sim</td>\n",
              "      <td>normal</td>\n",
              "      <td>rígida</td>\n",
              "    </tr>\n",
              "    <tr>\n",
              "      <th>4</th>\n",
              "      <td>5</td>\n",
              "      <td>jovem</td>\n",
              "      <td>hipermetrope</td>\n",
              "      <td>não</td>\n",
              "      <td>reduzida</td>\n",
              "      <td>gelatinosa</td>\n",
              "    </tr>\n",
              "  </tbody>\n",
              "</table>\n",
              "</div>\n",
              "      <button class=\"colab-df-convert\" onclick=\"convertToInteractive('df-b4c35f7f-1667-47ce-b9e1-43a3cf308c82')\"\n",
              "              title=\"Convert this dataframe to an interactive table.\"\n",
              "              style=\"display:none;\">\n",
              "\n",
              "  <svg xmlns=\"http://www.w3.org/2000/svg\" height=\"24px\"viewBox=\"0 0 24 24\"\n",
              "       width=\"24px\">\n",
              "    <path d=\"M0 0h24v24H0V0z\" fill=\"none\"/>\n",
              "    <path d=\"M18.56 5.44l.94 2.06.94-2.06 2.06-.94-2.06-.94-.94-2.06-.94 2.06-2.06.94zm-11 1L8.5 8.5l.94-2.06 2.06-.94-2.06-.94L8.5 2.5l-.94 2.06-2.06.94zm10 10l.94 2.06.94-2.06 2.06-.94-2.06-.94-.94-2.06-.94 2.06-2.06.94z\"/><path d=\"M17.41 7.96l-1.37-1.37c-.4-.4-.92-.59-1.43-.59-.52 0-1.04.2-1.43.59L10.3 9.45l-7.72 7.72c-.78.78-.78 2.05 0 2.83L4 21.41c.39.39.9.59 1.41.59.51 0 1.02-.2 1.41-.59l7.78-7.78 2.81-2.81c.8-.78.8-2.07 0-2.86zM5.41 20L4 18.59l7.72-7.72 1.47 1.35L5.41 20z\"/>\n",
              "  </svg>\n",
              "      </button>\n",
              "\n",
              "\n",
              "\n",
              "    <div id=\"df-b770ddb6-0900-4447-92ff-5dab60b15d82\">\n",
              "      <button class=\"colab-df-quickchart\" onclick=\"quickchart('df-b770ddb6-0900-4447-92ff-5dab60b15d82')\"\n",
              "              title=\"Suggest charts.\"\n",
              "              style=\"display:none;\">\n",
              "\n",
              "<svg xmlns=\"http://www.w3.org/2000/svg\" height=\"24px\"viewBox=\"0 0 24 24\"\n",
              "     width=\"24px\">\n",
              "    <g>\n",
              "        <path d=\"M19 3H5c-1.1 0-2 .9-2 2v14c0 1.1.9 2 2 2h14c1.1 0 2-.9 2-2V5c0-1.1-.9-2-2-2zM9 17H7v-7h2v7zm4 0h-2V7h2v10zm4 0h-2v-4h2v4z\"/>\n",
              "    </g>\n",
              "</svg>\n",
              "      </button>\n",
              "    </div>\n",
              "\n",
              "<style>\n",
              "  .colab-df-quickchart {\n",
              "    background-color: #E8F0FE;\n",
              "    border: none;\n",
              "    border-radius: 50%;\n",
              "    cursor: pointer;\n",
              "    display: none;\n",
              "    fill: #1967D2;\n",
              "    height: 32px;\n",
              "    padding: 0 0 0 0;\n",
              "    width: 32px;\n",
              "  }\n",
              "\n",
              "  .colab-df-quickchart:hover {\n",
              "    background-color: #E2EBFA;\n",
              "    box-shadow: 0px 1px 2px rgba(60, 64, 67, 0.3), 0px 1px 3px 1px rgba(60, 64, 67, 0.15);\n",
              "    fill: #174EA6;\n",
              "  }\n",
              "\n",
              "  [theme=dark] .colab-df-quickchart {\n",
              "    background-color: #3B4455;\n",
              "    fill: #D2E3FC;\n",
              "  }\n",
              "\n",
              "  [theme=dark] .colab-df-quickchart:hover {\n",
              "    background-color: #434B5C;\n",
              "    box-shadow: 0px 1px 3px 1px rgba(0, 0, 0, 0.15);\n",
              "    filter: drop-shadow(0px 1px 2px rgba(0, 0, 0, 0.3));\n",
              "    fill: #FFFFFF;\n",
              "  }\n",
              "</style>\n",
              "\n",
              "    <script>\n",
              "      async function quickchart(key) {\n",
              "        const containerElement = document.querySelector('#' + key);\n",
              "        const charts = await google.colab.kernel.invokeFunction(\n",
              "            'suggestCharts', [key], {});\n",
              "      }\n",
              "    </script>\n",
              "\n",
              "      <script>\n",
              "\n",
              "function displayQuickchartButton(domScope) {\n",
              "  let quickchartButtonEl =\n",
              "    domScope.querySelector('#df-b770ddb6-0900-4447-92ff-5dab60b15d82 button.colab-df-quickchart');\n",
              "  quickchartButtonEl.style.display =\n",
              "    google.colab.kernel.accessAllowed ? 'block' : 'none';\n",
              "}\n",
              "\n",
              "        displayQuickchartButton(document);\n",
              "      </script>\n",
              "      <style>\n",
              "    .colab-df-container {\n",
              "      display:flex;\n",
              "      flex-wrap:wrap;\n",
              "      gap: 12px;\n",
              "    }\n",
              "\n",
              "    .colab-df-convert {\n",
              "      background-color: #E8F0FE;\n",
              "      border: none;\n",
              "      border-radius: 50%;\n",
              "      cursor: pointer;\n",
              "      display: none;\n",
              "      fill: #1967D2;\n",
              "      height: 32px;\n",
              "      padding: 0 0 0 0;\n",
              "      width: 32px;\n",
              "    }\n",
              "\n",
              "    .colab-df-convert:hover {\n",
              "      background-color: #E2EBFA;\n",
              "      box-shadow: 0px 1px 2px rgba(60, 64, 67, 0.3), 0px 1px 3px 1px rgba(60, 64, 67, 0.15);\n",
              "      fill: #174EA6;\n",
              "    }\n",
              "\n",
              "    [theme=dark] .colab-df-convert {\n",
              "      background-color: #3B4455;\n",
              "      fill: #D2E3FC;\n",
              "    }\n",
              "\n",
              "    [theme=dark] .colab-df-convert:hover {\n",
              "      background-color: #434B5C;\n",
              "      box-shadow: 0px 1px 3px 1px rgba(0, 0, 0, 0.15);\n",
              "      filter: drop-shadow(0px 1px 2px rgba(0, 0, 0, 0.3));\n",
              "      fill: #FFFFFF;\n",
              "    }\n",
              "  </style>\n",
              "\n",
              "      <script>\n",
              "        const buttonEl =\n",
              "          document.querySelector('#df-b4c35f7f-1667-47ce-b9e1-43a3cf308c82 button.colab-df-convert');\n",
              "        buttonEl.style.display =\n",
              "          google.colab.kernel.accessAllowed ? 'block' : 'none';\n",
              "\n",
              "        async function convertToInteractive(key) {\n",
              "          const element = document.querySelector('#df-b4c35f7f-1667-47ce-b9e1-43a3cf308c82');\n",
              "          const dataTable =\n",
              "            await google.colab.kernel.invokeFunction('convertToInteractive',\n",
              "                                                     [key], {});\n",
              "          if (!dataTable) return;\n",
              "\n",
              "          const docLinkHtml = 'Like what you see? Visit the ' +\n",
              "            '<a target=\"_blank\" href=https://colab.research.google.com/notebooks/data_table.ipynb>data table notebook</a>'\n",
              "            + ' to learn more about interactive tables.';\n",
              "          element.innerHTML = '';\n",
              "          dataTable['output_type'] = 'display_data';\n",
              "          await google.colab.output.renderOutput(dataTable, element);\n",
              "          const docLink = document.createElement('div');\n",
              "          docLink.innerHTML = docLinkHtml;\n",
              "          element.appendChild(docLink);\n",
              "        }\n",
              "      </script>\n",
              "    </div>\n",
              "  </div>\n"
            ]
          },
          "metadata": {},
          "execution_count": 82
        }
      ]
    },
    {
      "cell_type": "markdown",
      "source": [
        "### Com base nestes dados obtidos na internet, responda:\n",
        "\n",
        " * 1) qual lente de contato você prescreveria para os seguintes pacientes (justifique cada uma das\n",
        "suas prescrições):\n",
        "\n",
        "  * a) ID31, pré-presbiópico, hipermetrope, sim, normal, ?\n",
        "  * b) ID32, presbiópico, hipermetrope, sim, normal, ?\n",
        "  * c) ID33, jovem, míope, sim, normal, ?\n",
        "  * d) ID34, presbiópico, hipermetrope, sim, normal, ?"
      ],
      "metadata": {
        "id": "smGdAO1TrMzE"
      }
    },
    {
      "cell_type": "code",
      "source": [],
      "metadata": {
        "id": "N98hPiF3rUow"
      },
      "execution_count": null,
      "outputs": []
    },
    {
      "cell_type": "markdown",
      "source": [
        "### 2) qual dos atributos (identificação do paciente (ID), idade, diagnóstico oficial, presença de astigmatismo, produção lacrimal do paciente) é o mais significativos para auxiliar a identificar a melhor lente de contato? Por que? E qual é o menos significativo? Por que?\n"
      ],
      "metadata": {
        "id": "2R6dXpvnrVhG"
      }
    },
    {
      "cell_type": "code",
      "source": [],
      "metadata": {
        "id": "hRDMFVhnraZx"
      },
      "execution_count": null,
      "outputs": []
    },
    {
      "cell_type": "markdown",
      "source": [
        "### 3) você acha que este banco de dados seria suficiente para que um médico pudesse ser considerado apto para prescrever lentes de contato? Por que? Quais características seriam mais importantes para que se possa considerar um banco de dados “perfeito” para se aprender a resolver um problema (mencione a influência da quantidade de instâncias, quantidade de atributos, o tipo dos atributos (real, inteiro, nominal), etc.)?"
      ],
      "metadata": {
        "id": "Y7IckLW3rcHQ"
      }
    },
    {
      "cell_type": "code",
      "source": [],
      "metadata": {
        "id": "hZn1_R1SrhVB"
      },
      "execution_count": null,
      "outputs": []
    },
    {
      "cell_type": "markdown",
      "source": [
        "### 4) Você acha que seria possível, em um banco de dados como o mostrado acima, que dois pacientes com as mesmas características apresentassem prescrições diferentes? Por que? Dê exemplos."
      ],
      "metadata": {
        "id": "FAvcPlitriy-"
      }
    },
    {
      "cell_type": "code",
      "source": [],
      "metadata": {
        "id": "NnbfChKrrnEx"
      },
      "execution_count": null,
      "outputs": []
    },
    {
      "cell_type": "markdown",
      "source": [
        "### 5) imagine que o atributo idade fosse um atributo numérico (definindo quantos anos o paciente possui), como você faria para verificar a similaridade entre a idade de dois pacientes? Por que?"
      ],
      "metadata": {
        "id": "bDh3lu85rn9o"
      }
    },
    {
      "cell_type": "code",
      "source": [],
      "metadata": {
        "id": "zIfHMsfKuOAU"
      },
      "execution_count": null,
      "outputs": []
    },
    {
      "cell_type": "markdown",
      "source": [
        "### 6) Considerando que você não é médico, ao invés de tomar como base os padrões presentes em experiências passadas, você teria um algoritmo melhor para prescrever lentes de contato? Justifique sua resposta."
      ],
      "metadata": {
        "id": "5NyCQNHTuPEz"
      }
    },
    {
      "cell_type": "code",
      "source": [],
      "metadata": {
        "id": "cnBiJVZ8uSk8"
      },
      "execution_count": null,
      "outputs": []
    },
    {
      "cell_type": "markdown",
      "source": [],
      "metadata": {
        "id": "cTdwob2-uTSv"
      }
    },
    {
      "cell_type": "markdown",
      "source": [
        "### 7) Alguns cursos de graduação (o curso de medicina da UFSCar, por exemplo) seguem o processo de “aprendizado baseado em casos”. Supondo que tais cursos não exigissem o estudo teórico (o que não é verdade, pois os alunos precisam também embasar as decisões, em cada caso vivenciado, através de modelos e teorias presentes na literatura). O que você acha deste suposto método? Quantos casos um aluno precisaria vivenciar para se formar?"
      ],
      "metadata": {
        "id": "-ov-Yo0euTtV"
      }
    },
    {
      "cell_type": "code",
      "source": [],
      "metadata": {
        "id": "1kltUvHouYTs"
      },
      "execution_count": null,
      "outputs": []
    },
    {
      "cell_type": "markdown",
      "source": [
        "### 8) construa um algoritmo (em pseudo-código, ou em alguma linguagem de programação que você tenha familiaridade) capaz de responder a questão 1 desta atividade."
      ],
      "metadata": {
        "id": "GEHDBlKEuY5l"
      }
    },
    {
      "cell_type": "code",
      "source": [],
      "metadata": {
        "id": "qEGPTyM-ubv0"
      },
      "execution_count": null,
      "outputs": []
    },
    {
      "cell_type": "markdown",
      "source": [
        "### 9) construa um algoritmo (em pseudo-código, ou em alguma linguagem de programação que você tenha familiaridade) capaz de responder a questão 2 desta atividade."
      ],
      "metadata": {
        "id": "4nqJx8w_ucSB"
      }
    },
    {
      "cell_type": "code",
      "source": [],
      "metadata": {
        "id": "Ormcl_BEuf_9"
      },
      "execution_count": null,
      "outputs": []
    }
  ]
}